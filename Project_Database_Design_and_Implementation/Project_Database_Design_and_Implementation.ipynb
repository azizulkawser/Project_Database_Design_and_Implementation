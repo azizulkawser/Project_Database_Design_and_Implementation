{
 "cells": [
  {
   "attachments": {},
   "cell_type": "markdown",
   "metadata": {},
   "source": [
    "# Project : Database Design and Implementation <hr>"
   ]
  },
  {
   "attachments": {},
   "cell_type": "markdown",
   "metadata": {},
   "source": [
    "<h2> Scenario </h2>\n",
    "<p1> A New York based coffee shop chain is planning to expand its operations nationwide by opening multiple franchise locations. To facilitate this expansion and enhance operational efficiency, they are seeking to revamp their data infrastructure.</p1>\n",
    "<p2>Currently, the company's data is scattered across various systems including accounting software, suppliers' databases, point of sales (POS) systems, and spreadsheets. Now the task is to assess the data in these systems and create a centralized database that consolidates all the relevant information. Subsequently, design and implement the necessary database objects and populate them with the source data. As a final step, extract subsets of data as per the requirements of your business partners, export them, and then load them into staging databases that utilize different Relational Database Management Systems (RDBMS).</p2>\n",
    "<p3>By implementing these changes, we can enable the coffee shop chain to streamline their operations, improve decision-making processes, and establish a robust data infrastructure to support their national expansion plans.</p3><hr>"
   ]
  },
  {
   "attachments": {},
   "cell_type": "markdown",
   "metadata": {},
   "source": [
    "<h2>Data used in this project</h2>\n",
    "\n",
    "<p1>In this project, I will be working with a subset of data from the \n",
    "__[Coffee shop sample data](https://community.ibm.com/community/user/businessanalytics/blogs/steven-macko/2019/07/12/beanie-coffee-1113)__</p1>\n",
    "\n",
    "In this scenario, I will be working with data from the following sources:\n",
    "\n",
    "<li>Staff information held in a spreadsheet at HQ</li>\n",
    "<li>Sales outlet information held in a spreadsheet at HQ</li>\n",
    "<li>Sales data output as a CSV file from the POS system in the sales outlets</li>\n",
    "<li>Customer data output as a CSV file from a bespoke customer relationship management system</li>\n",
    "<li>Product information maintained in a spreadsheet exported from your supplier’s database</li><hr>\n"
   ]
  },
  {
   "attachments": {},
   "cell_type": "markdown",
   "metadata": {},
   "source": [
    "<h2>Objectives</h2>\n",
    "<li>Identify entities.</li>\n",
    "<li>Identity attributes.</li>\n",
    "<li>Create an entity relationship diagram (ERD) using the pgAdmin ERD Tool.</li>\n",
    "<li>Normalize tables.</li>\n",
    "<li>Define keys and relationships.</li>\n",
    "<li>Create database objects by generating and running the SQL script from the ERD Tool.</li>\n",
    "<li>Create a view and export the data.</li>\n",
    "<li>Create a materialized view and export the data.</li>\n",
    "<li>Import data into a Db2 database.</li>\n",
    "<li>Import data into a MySQL database.</li><hr>"
   ]
  },
  {
   "attachments": {},
   "cell_type": "markdown",
   "metadata": {},
   "source": [
    "<h2>Task 1: Identify entities</h2>\n",
    "The first step when designing a new database is to review any existing data and identify the entities for your new system.\n",
    "\n",
    "<ol><li>The following image shows sample data from each of the data sources that you will be working with to design your new central database. Review the image and identify the entities you plan to create.</li>\n",
    "\n",
    "\n",
    "\n",
    "<li>Make a list of the entities you have identified.</li></ol>\n",
    "<img src=\"existing_data.png\"/>\n",
    "\n",
    "![Image Alt Text](Project_Database_Design_and_Implementation/images/existing_data.png)\n"
   ]
  },
  {
   "attachments": {},
   "cell_type": "markdown",
   "metadata": {},
   "source": [
    "<h3>Task 1: Identify entities - Solution</h3>\n",
    "<p1>In the field of data modeling and databases, an entity refers to an object or concept that is represented in the database. It can be a real-world object, such as a customer or a product, or an abstract concept, such as an order or a transaction. Entities are typically represented as tables in a database, with each row representing an instance of the entity.</p1>\n",
    "\n",
    "<p2>Just looking at the sample data of each data source we can see <li>staff,</li> <li>sales_outlet,</li> <li>sales_transaction,</li> <li>customer and</li> <li>product</li> are the possible entities for our database.</p2><hr>"
   ]
  },
  {
   "attachments": {},
   "cell_type": "markdown",
   "metadata": {},
   "source": [
    "<h2>Task 2: Identify attributes</h2>\n",
    "In this task, you will identify the attributes of the entities that you plan to create.\n",
    "<ol><li>Using the information from the sample data in the image from Task 1, identify the attributes for the entities.</li><li>Make a list of the sales transaction attributes that you identified.</li></ol>"
   ]
  },
  {
   "attachments": {},
   "cell_type": "markdown",
   "metadata": {},
   "source": [
    "<h3>Task 2: Identify attributed - Solution</h3>\n",
    "<ul><li>The attributes of staff entity are, \n",
    "<ol><li>staff_id,</li><li>first_name,</li> <li>last_name,</li> <li>position,</li> <li>start_date,</li> <li>location</li></ol>\n",
    "\n",
    "<li>The attributes of sales_outlet entity are,\n",
    "<ol><li>sales_outlet_id,</li><li> sales_outlet_type,</li><li> address,</li><li> city,</li><li> telephone,</li><li> postal_code,</li><li> manager</ol></li>\n",
    "\n",
    "<li>The attributes of sales_transaction entity are,\n",
    "<ol><li>transaction_id,</li><li> transaction_date,</li><li> transaction_time,</li><li> sales_outlet_id,</li><li> staff_id,</li><li> customer_id,</li><li> product_id,</li><li> quantity,</li><li> price</ol></li>\n",
    "\n",
    "<li>The attributes of customer entity are,\n",
    "<ol><li>customer_id,</li><li> customer_name,</li><li> customer_email,</li><li> customer_since,</li><li> customer_card_number,</li><li> birthdate,</li><li>gender</ol></li>\n",
    "\n",
    "<li>The attributes of product entity are,\n",
    "<ol><li>product_id,</li><li> product_category,</li><li> product_type,</li><li> product_name,</li><li> description,</li><li> price</li></ul><hr>"
   ]
  },
  {
   "attachments": {},
   "cell_type": "markdown",
   "metadata": {},
   "source": [
    "<h2>Task 3: Create an ERD</h2>\n",
    "Now that you have defined some of your attributes and entities, you can determine the tables and columns for them and create an ERD.\n",
    "\n",
    "<ol><li>Open a new terminal from the side-by-side Cloud IDE.</li>\n",
    "\n",
    "<li>Use the start_postgres command to start a PostgreSQL service session in the Cloud IDE.</li>\n",
    "\n",
    "<li>Use the pgAdmin weblink to open pgAdmin in a new tab in your browser.</li>\n",
    "\n",
    "<li>Create a new database named COFFEE, view the schemas in the new COFFEE database, and then start a new ERD project.</li>\n",
    "\n",
    "<li>Add a table to the ERD for the sale transactions entity using the information in the following table. Consider what naming convention to use so that your colleagues will be able to understand your data and to ensure that the names are valid in other RDBMS. And use the sample data shown in the image in Task 1 to determine appropriate data types for each column.</li>\n",
    "<img src=\"images/Task3A.png\"/>\n",
    "<li>Take a screenshot of your ERD and save it as Task3A.png or Task3A.jpg.</li>\n",
    "<li>Add a table to the ERD for the product entity using the information in the following table. Consider what naming convention to use so that your colleagues will be able to understand your data and to ensure that the names are valid in other RDBMS. And use the sample data shown in the image in Task 1 to determine appropriate data types for each column.</li>\n",
    "<img src=\"images/Task3B.png\"/>\n",
    "<li>Take a screenshot of your ERD and save it as Task3B.png or Task3B.jpg.</li></ol>"
   ]
  },
  {
   "attachments": {},
   "cell_type": "markdown",
   "metadata": {},
   "source": [
    "<h3>Task 3: Create an ERD - Solution</h3>\n",
    "\n",
    "To use PostgreSQL in Jupyter Notebook, follow these steps:\n",
    "\n",
    "<ul><li>Install the necessary dependencies:</li>\n",
    "    <ol><li>Install psycopg2 package to connect to PostgreSQL using Python. Install it by running <code>!pip install psycopg2</code> in a Jupyter Notebook cell.</li></ol>\n",
    "<li>Import the required libraries:</li>\n",
    "    <ol><li>Import the psycopg2 library to connect to PostgreSQL.</li>\n",
    "    <li>Import the pandas library for data manipulation and analysis.</li></ol></ul>"
   ]
  },
  {
   "cell_type": "code",
   "execution_count": null,
   "metadata": {},
   "outputs": [],
   "source": [
    "#Install psycopg2 package to connect to PostgreSQL using Python. You can install it by running !pip install psycopg2 in a Jupyter Notebook cell.\n",
    "!pip install psycopg2-binary"
   ]
  },
  {
   "cell_type": "code",
   "execution_count": null,
   "metadata": {},
   "outputs": [],
   "source": [
    "!pip install pandas"
   ]
  },
  {
   "cell_type": "code",
   "execution_count": 1,
   "metadata": {},
   "outputs": [],
   "source": [
    "# Import the psycopg2 library to connect to PostgreSQL.\n",
    "# Import the pandas library for data manipulation and analysis.\n",
    "import psycopg2\n",
    "import pandas as pd\n"
   ]
  },
  {
   "attachments": {},
   "cell_type": "markdown",
   "metadata": {},
   "source": [
    "Establish a connection to PostgreSQL database:\n",
    "\n",
    "<li>Specify the database connection details such as hostname, port, database name, username, and password.</li>\n",
    "<li>Use the psycopg2.connect() function to establish a connection to the database.</li>\n",
    "\n",
    "You can check your port number from your configuration file, or from your GUI management tool such as PGAdmin. First, visit the Properties of the server from your PGAdmin.  \n",
    "\n",
    "<img src=\"images/pgadmin1.png\">\n",
    "\n",
    "Then, check the Connection tab, and port number. In the figure below, the port number is 5432.\n",
    "\n",
    "<img src=\"images/pgadmin2.png\">\n"
   ]
  },
  {
   "cell_type": "code",
   "execution_count": 2,
   "metadata": {},
   "outputs": [],
   "source": [
    "#Establish a connection to your PostgreSQL database\n",
    "\n",
    "# Connection details\n",
    "host = 'localhost'\n",
    "port = '5432'\n",
    "dbname = 'postgres'\n",
    "user = 'postgres'\n",
    "password = 'Gl@diator'\n",
    "\n",
    "# Establish connection\n",
    "conn = psycopg2.connect(\n",
    "    host=host,\n",
    "    port=port,\n",
    "    dbname=dbname,\n",
    "    user=user,\n",
    "    password=password\n",
    ")\n",
    "\n",
    "conn.autocommit = True"
   ]
  },
  {
   "attachments": {},
   "cell_type": "markdown",
   "metadata": {},
   "source": [
    "Let's see all the tables available in a PostgreSQL database"
   ]
  },
  {
   "cell_type": "code",
   "execution_count": 3,
   "metadata": {},
   "outputs": [
    {
     "name": "stdout",
     "output_type": "stream",
     "text": [
      "pg_catalog\n",
      "pg_catalog\n",
      "pg_catalog\n",
      "pg_catalog\n",
      "pg_catalog\n",
      "pg_catalog\n",
      "pg_catalog\n",
      "pg_catalog\n",
      "pg_catalog\n",
      "pg_catalog\n",
      "pg_catalog\n",
      "pg_catalog\n",
      "pg_catalog\n",
      "pg_catalog\n",
      "pg_catalog\n",
      "pg_catalog\n",
      "pg_catalog\n",
      "pg_catalog\n",
      "pg_catalog\n",
      "pg_catalog\n",
      "pg_catalog\n",
      "pg_catalog\n",
      "pg_catalog\n",
      "pg_catalog\n",
      "pg_catalog\n",
      "pg_catalog\n",
      "pg_catalog\n",
      "pg_catalog\n",
      "pg_catalog\n",
      "pg_catalog\n",
      "pg_catalog\n",
      "pg_catalog\n",
      "pg_catalog\n",
      "pg_catalog\n",
      "pg_catalog\n",
      "pg_catalog\n",
      "pg_catalog\n",
      "pg_catalog\n",
      "pg_catalog\n",
      "pg_catalog\n",
      "pg_catalog\n",
      "pg_catalog\n",
      "pg_catalog\n",
      "pg_catalog\n",
      "pg_catalog\n",
      "pg_catalog\n",
      "pg_catalog\n",
      "pg_catalog\n",
      "pg_catalog\n",
      "pg_catalog\n",
      "pg_catalog\n",
      "pg_catalog\n",
      "pg_catalog\n",
      "pg_catalog\n",
      "pg_catalog\n",
      "pg_catalog\n",
      "pg_catalog\n",
      "pg_catalog\n",
      "pg_catalog\n",
      "pg_catalog\n",
      "pg_catalog\n",
      "pg_catalog\n",
      "pg_catalog\n",
      "pg_catalog\n",
      "information_schema\n",
      "information_schema\n",
      "information_schema\n",
      "information_schema\n"
     ]
    }
   ],
   "source": [
    "# Create a cursor\n",
    "cursor = conn.cursor()\n",
    "\n",
    "# Query to get all table names\n",
    "query = \"\"\"\n",
    "SELECT * FROM pg_catalog.pg_tables\n",
    "\"\"\"\n",
    "\n",
    "# Execute the query\n",
    "cursor.execute(query)\n",
    "\n",
    "# Fetch and print the table names\n",
    "table_names = cursor.fetchall()\n",
    "for table in table_names:\n",
    "    print(table[0])\n",
    "\n",
    "# Close the cursor and the connection\n",
    "cursor.close()\n",
    "conn.close()\n"
   ]
  },
  {
   "cell_type": "code",
   "execution_count": 4,
   "metadata": {},
   "outputs": [
    {
     "name": "stdout",
     "output_type": "stream",
     "text": [
      "Coffee Database has been created successfully !!\n"
     ]
    }
   ],
   "source": [
    "# Establish connection\n",
    "conn = psycopg2.connect(\n",
    "    host=host,\n",
    "    port=port,\n",
    "    user=user,\n",
    "    password=password\n",
    ")\n",
    "\n",
    "conn.autocommit = True\n",
    "\n",
    "# Creating a cursor object\n",
    "cursor = conn.cursor()\n",
    "\n",
    "# query to create a database\n",
    "sql = ''' CREATE database COFFEE ''';\n",
    "\n",
    "# executing above query\n",
    "cursor.execute(sql)\n",
    "\n",
    "# Close the cursor and the connection\n",
    "cursor.close()\n",
    "conn.close()\n",
    "\n",
    "print(\"Coffee Database has been created successfully !!\");"
   ]
  },
  {
   "cell_type": "code",
   "execution_count": 9,
   "metadata": {},
   "outputs": [],
   "source": [
    "#Establish a connection to your coffee PostgreSQL database\n",
    "\n",
    "# Connection details\n",
    "host = 'localhost'\n",
    "port = '5432'\n",
    "dbname = 'coffee'\n",
    "user = 'postgres'\n",
    "password = 'Gl@diator'\n",
    "\n",
    "# Establish connection\n",
    "conn = psycopg2.connect(\n",
    "    host=host,\n",
    "    port=port,\n",
    "    dbname=dbname,\n",
    "    user=user,\n",
    "    password=password\n",
    ")\n",
    "\n",
    "conn.autocommit = True"
   ]
  },
  {
   "cell_type": "code",
   "execution_count": 10,
   "metadata": {},
   "outputs": [],
   "source": [
    "# Creating a cursor object\n",
    "cursor = conn.cursor()\n",
    "# Create the sale_transactions table\n",
    "create_table_query = \"\"\"\n",
    "CREATE TABLE coffee.public.Sale_transactions (\n",
    "    Transaction_id SERIAL PRIMARY KEY,\n",
    "    Date DATE,\n",
    "    Time TIME,\n",
    "    Sales_outlet INTEGER,\n",
    "    Staff INTEGER,\n",
    "    Customer INTEGER,\n",
    "    Product INTEGER,\n",
    "    Quantity INTEGER,\n",
    "    Price FLOAT\n",
    ");\n",
    "\"\"\"\n",
    "cursor.execute(create_table_query)\n"
   ]
  },
  {
   "attachments": {},
   "cell_type": "markdown",
   "metadata": {},
   "source": [
    "A screenshot of the ERD  \n",
    "\n",
    "<img src=\"images/task3a_solution.png\">"
   ]
  },
  {
   "cell_type": "code",
   "execution_count": 13,
   "metadata": {},
   "outputs": [],
   "source": [
    "# Create the product table\n",
    "create_table_query = \"\"\"\n",
    "CREATE TABLE product (\n",
    "    Product_id SERIAL PRIMARY KEY,\n",
    "    Category VARCHAR(50),\n",
    "    Type VARCHAR(50),\n",
    "    Product VARCHAR(200),\n",
    "    Description TEXT,\n",
    "    Price FLOAT\n",
    ");\n",
    "\"\"\"\n",
    "\n",
    "cursor.execute(create_table_query)"
   ]
  },
  {
   "attachments": {},
   "cell_type": "markdown",
   "metadata": {},
   "source": [
    "A screenshot of the updated ERD  \n",
    "\n",
    "<img src=\"images/task3b_solution.png\">"
   ]
  },
  {
   "attachments": {},
   "cell_type": "markdown",
   "metadata": {},
   "source": [
    "<hr>  \n",
    "\n",
    "<h2>Task 4: Normalize tables</h2>"
   ]
  }
 ],
 "metadata": {
  "kernelspec": {
   "display_name": "firstEnv",
   "language": "python",
   "name": "python3"
  },
  "language_info": {
   "codemirror_mode": {
    "name": "ipython",
    "version": 3
   },
   "file_extension": ".py",
   "mimetype": "text/x-python",
   "name": "python",
   "nbconvert_exporter": "python",
   "pygments_lexer": "ipython3",
   "version": "3.11.4"
  },
  "orig_nbformat": 4
 },
 "nbformat": 4,
 "nbformat_minor": 2
}
