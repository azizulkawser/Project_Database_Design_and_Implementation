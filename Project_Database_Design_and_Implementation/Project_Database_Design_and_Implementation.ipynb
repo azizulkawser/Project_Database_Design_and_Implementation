{
 "cells": [
  {
   "attachments": {},
   "cell_type": "markdown",
   "metadata": {},
   "source": [
    "# Project : Database Design and Implementation <hr>"
   ]
  },
  {
   "attachments": {},
   "cell_type": "markdown",
   "metadata": {},
   "source": [
    "<h2> Scenario </h2>\n",
    "<p1> A New York based coffee shop chain is planning to expand its operations nationwide by opening multiple franchise locations. To facilitate this expansion and enhance operational efficiency, they are seeking to revamp their data infrastructure.</p1>\n",
    "<p2>Currently, the company's data is scattered across various systems including accounting software, suppliers' databases, point of sales (POS) systems, and spreadsheets. Now the task is to assess the data in these systems and create a centralized database that consolidates all the relevant information. Subsequently, design and implement the necessary database objects and populate them with the source data. As a final step, extract subsets of data as per the requirements of your business partners, export them, and then load them into staging databases that utilize different Relational Database Management Systems (RDBMS).</p2>\n",
    "<p3>By implementing these changes, we can enable the coffee shop chain to streamline their operations, improve decision-making processes, and establish a robust data infrastructure to support their national expansion plans.</p3><hr>"
   ]
  },
  {
   "attachments": {},
   "cell_type": "markdown",
   "metadata": {},
   "source": [
    "<h2>Data used in this project</h2>\n",
    "\n",
    "<p1>In this project, I will be working with a subset of data from the \n",
    "__[Coffee shop sample data](https://community.ibm.com/community/user/businessanalytics/blogs/steven-macko/2019/07/12/beanie-coffee-1113)__</p1>\n",
    "\n",
    "In this scenario, I will be working with data from the following sources:\n",
    "\n",
    "<li>Staff information held in a spreadsheet at HQ</li>\n",
    "<li>Sales outlet information held in a spreadsheet at HQ</li>\n",
    "<li>Sales data output as a CSV file from the POS system in the sales outlets</li>\n",
    "<li>Customer data output as a CSV file from a bespoke customer relationship management system</li>\n",
    "<li>Product information maintained in a spreadsheet exported from your supplier’s database</li><hr>\n"
   ]
  },
  {
   "attachments": {},
   "cell_type": "markdown",
   "metadata": {},
   "source": [
    "<h2>Objectives</h2>\n",
    "<li>Identify entities.</li>\n",
    "<li>Identity attributes.</li>\n",
    "<li>Create an entity relationship diagram (ERD) using the pgAdmin ERD Tool.</li>\n",
    "<li>Normalize tables.</li>\n",
    "<li>Define keys and relationships.</li>\n",
    "<li>Create database objects by generating and running the SQL script from the ERD Tool.</li>\n",
    "<li>Create a view and export the data.</li>\n",
    "<li>Create a materialized view and export the data.</li>\n",
    "<li>Import data into a Db2 database.</li>\n",
    "<li>Import data into a MySQL database.</li><hr>"
   ]
  },
  {
   "attachments": {},
   "cell_type": "markdown",
   "metadata": {},
   "source": [
    "<h2>Task 1: Identify entities</h2>\n",
    "The first step when designing a new database is to review any existing data and identify the entities for your new system.\n",
    "\n",
    "<ol><li>The following image shows sample data from each of the data sources that you will be working with to design your new central database. Review the image and identify the entities you plan to create.</li>\n",
    "<img src=\"Project_Database_Design_and_Implementation/images/existing_data.png\" alt=\"Alternative text\" width =\"948\" height=929 />\n",
    "<li>Make a list of the entities you have identified.</li></ol>"
   ]
  },
  {
   "attachments": {},
   "cell_type": "markdown",
   "metadata": {},
   "source": [
    "<h3>Task 1: Identify entities - Solution</h3>\n",
    "<p1>In the field of data modeling and databases, an entity refers to an object or concept that is represented in the database. It can be a real-world object, such as a customer or a product, or an abstract concept, such as an order or a transaction. Entities are typically represented as tables in a database, with each row representing an instance of the entity.</p1>\n",
    "\n",
    "<p2>Just looking at the sample data of each data source we can see <li>staff,</li> <li>sales_outlet,</li> <li>sales_transaction,</li> <li>customer and</li> <li>product</li> are the possible entities for our database.</p2><hr>"
   ]
  },
  {
   "attachments": {},
   "cell_type": "markdown",
   "metadata": {},
   "source": [
    "<h2>Task 2: Identify attributes</h2>\n",
    "In this task, you will identify the attributes of the entities that you plan to create.\n",
    "<ol><li>Using the information from the sample data in the image from Task 1, identify the attributes for the entities.</li><li>Make a list of the sales transaction attributes that you identified.</li></ol>"
   ]
  },
  {
   "attachments": {},
   "cell_type": "markdown",
   "metadata": {},
   "source": [
    "<h3>Task 2: Identify attributed - Solution</h3>\n",
    "<ul><li>The attributes of staff entity are, \n",
    "<ol><li>staff_id,</li><li>first_name,</li> <li>last_name,</li> <li>position,</li> <li>start_date,</li> <li>location</li></ol>\n",
    "\n",
    "<li>The attributes of sales_outlet entity are,\n",
    "<ol><li>sales_outlet_id,</li><li> sales_outlet_type,</li><li> address,</li><li> city,</li><li> telephone,</li><li> postal_code,</li><li> manager</ol></li>\n",
    "\n",
    "<li>The attributes of sales_transaction entity are,\n",
    "<ol><li>transaction_id,</li><li> transaction_date,</li><li> transaction_time,</li><li> sales_outlet_id,</li><li> staff_id,</li><li> customer_id,</li><li> product_id,</li><li> quantity,</li><li> price</ol></li>\n",
    "\n",
    "<li>The attributes of customer entity are,\n",
    "<ol><li>customer_id,</li><li> customer_name,</li><li> customer_email,</li><li> customer_since,</li><li> customer_card_number,</li><li> birthdate,</li><li>gender</ol></li>\n",
    "\n",
    "<li>The attributes of product entity are,\n",
    "<ol><li>product_id,</li><li> product_category,</li><li> product_type,</li><li> product_name,</li><li> description,</li><li> price</li></ul><hr>"
   ]
  },
  {
   "attachments": {},
   "cell_type": "markdown",
   "metadata": {},
   "source": [
    "<h2>Task 3: Create an ERD</h2>"
   ]
  },
  {
   "cell_type": "code",
   "execution_count": null,
   "metadata": {},
   "outputs": [],
   "source": []
  }
 ],
 "metadata": {
  "language_info": {
   "name": "python"
  },
  "orig_nbformat": 4
 },
 "nbformat": 4,
 "nbformat_minor": 2
}
